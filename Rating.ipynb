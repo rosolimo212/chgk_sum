{
 "cells": [
  {
   "cell_type": "code",
   "execution_count": 1,
   "metadata": {},
   "outputs": [
    {
     "name": "stdout",
     "output_type": "stream",
     "text": [
      "2019-05-05 23:20:52.800319\n"
     ]
    }
   ],
   "source": [
    "# coding: utf-8\n",
    "import numpy as np\n",
    "import pandas as pd\n",
    "\n",
    "#настройки, с которыми лучше\n",
    "pd.set_option('display.max_rows', 45000)\n",
    "pd.set_option('display.max_columns', 50000)\n",
    "pd.set_option('display.max_colwidth', 5000)\n",
    "\n",
    "\n",
    "import sys\n",
    "sys.path.append('/Users/roman/python/kaggle/chgk_sum')\n",
    "\n",
    "import rating_fun as rf\n",
    "\n",
    "import datetime\n",
    "st=datetime.datetime.now()\n",
    "\n",
    "print(st)"
   ]
  },
  {
   "cell_type": "code",
   "execution_count": 2,
   "metadata": {},
   "outputs": [
    {
     "name": "stdout",
     "output_type": "stream",
     "text": [
      "Турнир  Межфакультетский кубок МГУ (id= 5602 2019-04-11 19:00:00 )\n"
     ]
    },
    {
     "data": {
      "text/html": [
       "        <script type=\"text/javascript\">\n",
       "        window.PlotlyConfig = {MathJaxConfig: 'local'};\n",
       "        if (window.MathJax) {MathJax.Hub.Config({SVG: {font: \"STIX-Web\"}});}\n",
       "        if (typeof require !== 'undefined') {\n",
       "        require.undef(\"plotly\");\n",
       "        requirejs.config({\n",
       "            paths: {\n",
       "                'plotly': ['https://cdn.plot.ly/plotly-latest.min']\n",
       "            }\n",
       "        });\n",
       "        require(['plotly'], function(Plotly) {\n",
       "            window._Plotly = Plotly;\n",
       "        });\n",
       "        }\n",
       "        </script>\n",
       "        "
      ]
     },
     "metadata": {},
     "output_type": "display_data"
    },
    {
     "data": {
      "application/vnd.plotly.v1+json": {
       "config": {
        "linkText": "Export to plot.ly",
        "plotlyServerURL": "https://plot.ly",
        "responsive": true,
        "showLink": false
       },
       "data": [
        {
         "marker": {
          "color": "rgb(0, 0, 250)"
         },
         "name": "dif",
         "type": "scatter",
         "uid": "603366ca-4b05-4078-80da-22e6a63143c9",
         "x": [
          1,
          2,
          3,
          4,
          5,
          6,
          7,
          8,
          9,
          10,
          11,
          12,
          13,
          14,
          15,
          16,
          17,
          18,
          19,
          20,
          21,
          22,
          23,
          24,
          25,
          26,
          27,
          28,
          29,
          30,
          31,
          32,
          33,
          34,
          35,
          36
         ],
         "y": [
          0,
          0.8421052631578947,
          0.6140350877192983,
          0.2982456140350877,
          0.49122807017543857,
          0.45614035087719296,
          0.8245614035087719,
          0.9824561403508771,
          0.47368421052631576,
          0.5087719298245614,
          0.43859649122807015,
          0.9298245614035088,
          0.24561403508771928,
          0.45614035087719296,
          0.8596491228070176,
          0.9298245614035088,
          0.22807017543859648,
          0.9122807017543859,
          0.9298245614035088,
          0.8596491228070176,
          0.3508771929824561,
          0.8771929824561403,
          0.49122807017543857,
          0.45614035087719296,
          0.9473684210526315,
          0.38596491228070173,
          0.2807017543859649,
          0.8070175438596491,
          0.8771929824561403,
          0.8771929824561403,
          0.5789473684210527,
          0.9298245614035088,
          0.7368421052631579,
          0.543859649122807,
          0.8771929824561403,
          0.8771929824561403
         ]
        }
       ],
       "layout": {
        "title": {
         "text": "Dif class"
        },
        "yaxis": {
         "rangemode": "tozero",
         "title": {
          "text": ""
         }
        },
        "yaxis2": {
         "overlaying": "y",
         "rangemode": "tozero",
         "side": "right",
         "tickfont": {
          "color": "rgb(148, 103, 189)"
         },
         "title": {
          "font": {
           "color": "rgb(148, 103, 189)"
          },
          "text": ""
         }
        }
       }
      },
      "text/html": [
       "<div>\n",
       "        \n",
       "        \n",
       "            <div id=\"070c43e9-2a5f-444a-b22b-74117c995131\" class=\"plotly-graph-div\" style=\"height:525px; width:100%;\"></div>\n",
       "            <script type=\"text/javascript\">\n",
       "                require([\"plotly\"], function(Plotly) {\n",
       "                    window.PLOTLYENV=window.PLOTLYENV || {};\n",
       "                    window.PLOTLYENV.BASE_URL='https://plot.ly';\n",
       "                    \n",
       "                if (document.getElementById(\"070c43e9-2a5f-444a-b22b-74117c995131\")) {\n",
       "                    Plotly.newPlot(\n",
       "                        '070c43e9-2a5f-444a-b22b-74117c995131',\n",
       "                        [{\"marker\": {\"color\": \"rgb(0, 0, 250)\"}, \"name\": \"dif\", \"type\": \"scatter\", \"uid\": \"39f24373-e93c-4580-a234-121072d71c2c\", \"x\": [1, 2, 3, 4, 5, 6, 7, 8, 9, 10, 11, 12, 13, 14, 15, 16, 17, 18, 19, 20, 21, 22, 23, 24, 25, 26, 27, 28, 29, 30, 31, 32, 33, 34, 35, 36], \"y\": [0.0, 0.8421052631578947, 0.6140350877192983, 0.2982456140350877, 0.49122807017543857, 0.45614035087719296, 0.8245614035087719, 0.9824561403508771, 0.47368421052631576, 0.5087719298245614, 0.43859649122807015, 0.9298245614035088, 0.24561403508771928, 0.45614035087719296, 0.8596491228070176, 0.9298245614035088, 0.22807017543859648, 0.9122807017543859, 0.9298245614035088, 0.8596491228070176, 0.3508771929824561, 0.8771929824561403, 0.49122807017543857, 0.45614035087719296, 0.9473684210526315, 0.38596491228070173, 0.2807017543859649, 0.8070175438596491, 0.8771929824561403, 0.8771929824561403, 0.5789473684210527, 0.9298245614035088, 0.7368421052631579, 0.543859649122807, 0.8771929824561403, 0.8771929824561403]}],\n",
       "                        {\"title\": {\"text\": \"Dif class\"}, \"yaxis\": {\"rangemode\": \"tozero\", \"title\": {\"text\": \"\"}}, \"yaxis2\": {\"overlaying\": \"y\", \"rangemode\": \"tozero\", \"side\": \"right\", \"tickfont\": {\"color\": \"rgb(148, 103, 189)\"}, \"title\": {\"font\": {\"color\": \"rgb(148, 103, 189)\"}, \"text\": \"\"}}},\n",
       "                        {\"showLink\": false, \"linkText\": \"Export to plot.ly\", \"plotlyServerURL\": \"https://plot.ly\", \"responsive\": true}\n",
       "                    ).then(function(){\n",
       "                            \n",
       "var gd = document.getElementById('070c43e9-2a5f-444a-b22b-74117c995131');\n",
       "var x = new MutationObserver(function (mutations, observer) {{\n",
       "        var display = window.getComputedStyle(gd).display;\n",
       "        if (!display || display === 'none') {{\n",
       "            console.log([gd, 'removed!']);\n",
       "            Plotly.purge(gd);\n",
       "            observer.disconnect();\n",
       "        }}\n",
       "}});\n",
       "\n",
       "// Listen for the removal of the full notebook cells\n",
       "var notebookContainer = gd.closest('#notebook-container');\n",
       "if (notebookContainer) {{\n",
       "    x.observe(notebookContainer, {childList: true});\n",
       "}}\n",
       "\n",
       "// Listen for the clearing of the current output cell\n",
       "var outputEl = gd.closest('.output');\n",
       "if (outputEl) {{\n",
       "    x.observe(outputEl, {childList: true});\n",
       "}}\n",
       "\n",
       "                        })\n",
       "                };\n",
       "                });\n",
       "            </script>\n",
       "        </div>"
      ]
     },
     "metadata": {},
     "output_type": "display_data"
    },
    {
     "data": {
      "text/html": [
       "        <script type=\"text/javascript\">\n",
       "        window.PlotlyConfig = {MathJaxConfig: 'local'};\n",
       "        if (window.MathJax) {MathJax.Hub.Config({SVG: {font: \"STIX-Web\"}});}\n",
       "        if (typeof require !== 'undefined') {\n",
       "        require.undef(\"plotly\");\n",
       "        requirejs.config({\n",
       "            paths: {\n",
       "                'plotly': ['https://cdn.plot.ly/plotly-latest.min']\n",
       "            }\n",
       "        });\n",
       "        require(['plotly'], function(Plotly) {\n",
       "            window._Plotly = Plotly;\n",
       "        });\n",
       "        }\n",
       "        </script>\n",
       "        "
      ]
     },
     "metadata": {},
     "output_type": "display_data"
    },
    {
     "data": {
      "application/vnd.plotly.v1+json": {
       "config": {
        "linkText": "Export to plot.ly",
        "plotlyServerURL": "https://plot.ly",
        "responsive": true,
        "showLink": false
       },
       "data": [
        {
         "fill": "tonexty",
         "marker": {
          "color": "rgb(50, 103, 189)"
         },
         "name": "class 1",
         "opacity": 0.2,
         "type": "scatter",
         "uid": "8fe58df2-b89f-4a28-adf1-1d22d98d661c",
         "x": [
          0,
          1,
          2,
          3,
          4,
          5,
          6,
          7,
          8,
          9,
          10,
          11,
          12,
          13,
          14,
          15,
          16,
          17,
          18,
          19,
          20,
          21,
          22,
          23,
          24,
          25,
          26,
          27,
          28,
          29,
          30,
          31,
          32,
          33,
          34,
          35
         ],
         "y": [
          0,
          0,
          0,
          0,
          0,
          0,
          0,
          0,
          0,
          0,
          0,
          0,
          0,
          0,
          0,
          0,
          0,
          0,
          0,
          0,
          0,
          0,
          0,
          0,
          0,
          0,
          0,
          0,
          0,
          2,
          2,
          2,
          2,
          2,
          2,
          0
         ]
        },
        {
         "fill": "tonexty",
         "marker": {
          "color": "rgb(148, 0, 189)"
         },
         "name": "class 2",
         "opacity": 0.2,
         "type": "scatter",
         "uid": "35dd8f01-2d01-4776-9e2a-d9125312b2d4",
         "x": [
          0,
          1,
          2,
          3,
          4,
          5,
          6,
          7,
          8,
          9,
          10,
          11,
          12,
          13,
          14,
          15,
          16,
          17,
          18,
          19,
          20,
          21,
          22,
          23,
          24,
          25,
          26,
          27,
          28,
          29,
          30,
          31,
          32,
          33,
          34,
          35
         ],
         "y": [
          0,
          0,
          0,
          0,
          0,
          0,
          0,
          0,
          0,
          0,
          0,
          0,
          0,
          0,
          0,
          0,
          0,
          0,
          0,
          0,
          0,
          0,
          0,
          0,
          0,
          0,
          0,
          0,
          0,
          0,
          0,
          0,
          0,
          0,
          0,
          1
         ]
        },
        {
         "fill": "tonexty",
         "marker": {
          "color": "rgb(148, 103, 0)"
         },
         "name": "class 3",
         "opacity": 0.2,
         "type": "scatter",
         "uid": "6a5f172e-4758-4785-9baa-8f79f87d5844",
         "x": [
          0,
          1,
          2,
          3,
          4,
          5,
          6,
          7,
          8,
          9,
          10,
          11,
          12,
          13,
          14,
          15,
          16,
          17,
          18,
          19,
          20,
          21,
          22,
          23,
          24,
          25,
          26,
          27,
          28,
          29,
          30,
          31,
          32,
          33,
          34,
          35
         ],
         "y": [
          0,
          0,
          0,
          0,
          0,
          0,
          0,
          0,
          0,
          0,
          0,
          0,
          0,
          0,
          0,
          0,
          0,
          0,
          1.33,
          1.33,
          1.33,
          1.33,
          1.33,
          1.33,
          1.33,
          1.33,
          1.33,
          1.33,
          1.33,
          0,
          0,
          0,
          0,
          0,
          0,
          0
         ]
        },
        {
         "fill": "tonexty",
         "marker": {
          "color": "rgb(150, 220, 50)"
         },
         "name": "class 4",
         "opacity": 0.2,
         "type": "scatter",
         "uid": "81da9e83-f645-44aa-bc1e-61e15fb93ae2",
         "x": [
          0,
          1,
          2,
          3,
          4,
          5,
          6,
          7,
          8,
          9,
          10,
          11,
          12,
          13,
          14,
          15,
          16,
          17,
          18,
          19,
          20,
          21,
          22,
          23,
          24,
          25,
          26,
          27,
          28,
          29,
          30,
          31,
          32,
          33,
          34,
          35
         ],
         "y": [
          1.67,
          1.67,
          1.67,
          1.67,
          1.67,
          1.67,
          1.67,
          1.67,
          1.67,
          1.67,
          1.67,
          1.67,
          1.67,
          1.67,
          1.67,
          1.67,
          1.67,
          1.67,
          0,
          0,
          0,
          0,
          0,
          0,
          0,
          0,
          0,
          0,
          0,
          0,
          0,
          0,
          0,
          0,
          0,
          0
         ]
        },
        {
         "marker": {
          "color": "rgb(0, 0, 250)"
         },
         "name": "dif",
         "type": "scatter",
         "uid": "c4bd688a-5d51-4119-b86d-9038c55ca64d",
         "x": [
          0,
          1,
          2,
          3,
          4,
          5,
          6,
          7,
          8,
          9,
          10,
          11,
          12,
          13,
          14,
          15,
          16,
          17,
          18,
          19,
          20,
          21,
          22,
          23,
          24,
          25,
          26,
          27,
          28,
          29,
          30,
          31,
          32,
          33,
          34,
          35
         ],
         "y": [
          0.9824561403508771,
          0.9473684210526315,
          0.9298245614035088,
          0.9298245614035088,
          0.9298245614035088,
          0.9298245614035088,
          0.9122807017543859,
          0.8771929824561403,
          0.8771929824561403,
          0.8771929824561403,
          0.8771929824561403,
          0.8771929824561403,
          0.8596491228070176,
          0.8596491228070176,
          0.8421052631578947,
          0.8245614035087719,
          0.8070175438596491,
          0.7368421052631579,
          0.6140350877192983,
          0.5789473684210527,
          0.543859649122807,
          0.5087719298245614,
          0.49122807017543857,
          0.49122807017543857,
          0.47368421052631576,
          0.45614035087719296,
          0.45614035087719296,
          0.45614035087719296,
          0.43859649122807015,
          0.38596491228070173,
          0.3508771929824561,
          0.2982456140350877,
          0.2807017543859649,
          0.24561403508771928,
          0.22807017543859648,
          0
         ]
        }
       ],
       "layout": {
        "title": {
         "text": "Dif class"
        },
        "yaxis": {
         "rangemode": "tozero",
         "title": {
          "text": ""
         }
        },
        "yaxis2": {
         "overlaying": "y",
         "rangemode": "tozero",
         "side": "right",
         "tickfont": {
          "color": "rgb(148, 103, 189)"
         },
         "title": {
          "font": {
           "color": "rgb(148, 103, 189)"
          },
          "text": ""
         }
        }
       }
      },
      "text/html": [
       "<div>\n",
       "        \n",
       "        \n",
       "            <div id=\"449eea1b-9309-45a3-9751-0754656695b8\" class=\"plotly-graph-div\" style=\"height:525px; width:100%;\"></div>\n",
       "            <script type=\"text/javascript\">\n",
       "                require([\"plotly\"], function(Plotly) {\n",
       "                    window.PLOTLYENV=window.PLOTLYENV || {};\n",
       "                    window.PLOTLYENV.BASE_URL='https://plot.ly';\n",
       "                    \n",
       "                if (document.getElementById(\"449eea1b-9309-45a3-9751-0754656695b8\")) {\n",
       "                    Plotly.newPlot(\n",
       "                        '449eea1b-9309-45a3-9751-0754656695b8',\n",
       "                        [{\"fill\": \"tonexty\", \"marker\": {\"color\": \"rgb(50, 103, 189)\"}, \"name\": \"class 1\", \"opacity\": 0.2, \"type\": \"scatter\", \"uid\": \"3aa3e145-79c5-4115-a5ed-0a702ea16760\", \"x\": [0, 1, 2, 3, 4, 5, 6, 7, 8, 9, 10, 11, 12, 13, 14, 15, 16, 17, 18, 19, 20, 21, 22, 23, 24, 25, 26, 27, 28, 29, 30, 31, 32, 33, 34, 35], \"y\": [0.0, 0.0, 0.0, 0.0, 0.0, 0.0, 0.0, 0.0, 0.0, 0.0, 0.0, 0.0, 0.0, 0.0, 0.0, 0.0, 0.0, 0.0, 0.0, 0.0, 0.0, 0.0, 0.0, 0.0, 0.0, 0.0, 0.0, 0.0, 0.0, 2.0, 2.0, 2.0, 2.0, 2.0, 2.0, 0.0]}, {\"fill\": \"tonexty\", \"marker\": {\"color\": \"rgb(148, 0, 189)\"}, \"name\": \"class 2\", \"opacity\": 0.2, \"type\": \"scatter\", \"uid\": \"704374f1-00f3-437c-ab84-afecd265d6a1\", \"x\": [0, 1, 2, 3, 4, 5, 6, 7, 8, 9, 10, 11, 12, 13, 14, 15, 16, 17, 18, 19, 20, 21, 22, 23, 24, 25, 26, 27, 28, 29, 30, 31, 32, 33, 34, 35], \"y\": [0.0, 0.0, 0.0, 0.0, 0.0, 0.0, 0.0, 0.0, 0.0, 0.0, 0.0, 0.0, 0.0, 0.0, 0.0, 0.0, 0.0, 0.0, 0.0, 0.0, 0.0, 0.0, 0.0, 0.0, 0.0, 0.0, 0.0, 0.0, 0.0, 0.0, 0.0, 0.0, 0.0, 0.0, 0.0, 1.0]}, {\"fill\": \"tonexty\", \"marker\": {\"color\": \"rgb(148, 103, 0)\"}, \"name\": \"class 3\", \"opacity\": 0.2, \"type\": \"scatter\", \"uid\": \"01a89759-84d9-4572-a33f-e51b44ddb213\", \"x\": [0, 1, 2, 3, 4, 5, 6, 7, 8, 9, 10, 11, 12, 13, 14, 15, 16, 17, 18, 19, 20, 21, 22, 23, 24, 25, 26, 27, 28, 29, 30, 31, 32, 33, 34, 35], \"y\": [0.0, 0.0, 0.0, 0.0, 0.0, 0.0, 0.0, 0.0, 0.0, 0.0, 0.0, 0.0, 0.0, 0.0, 0.0, 0.0, 0.0, 0.0, 1.33, 1.33, 1.33, 1.33, 1.33, 1.33, 1.33, 1.33, 1.33, 1.33, 1.33, 0.0, 0.0, 0.0, 0.0, 0.0, 0.0, 0.0]}, {\"fill\": \"tonexty\", \"marker\": {\"color\": \"rgb(150, 220, 50)\"}, \"name\": \"class 4\", \"opacity\": 0.2, \"type\": \"scatter\", \"uid\": \"8027ecd3-4640-4774-951b-00f5f64027e3\", \"x\": [0, 1, 2, 3, 4, 5, 6, 7, 8, 9, 10, 11, 12, 13, 14, 15, 16, 17, 18, 19, 20, 21, 22, 23, 24, 25, 26, 27, 28, 29, 30, 31, 32, 33, 34, 35], \"y\": [1.67, 1.67, 1.67, 1.67, 1.67, 1.67, 1.67, 1.67, 1.67, 1.67, 1.67, 1.67, 1.67, 1.67, 1.67, 1.67, 1.67, 1.67, 0.0, 0.0, 0.0, 0.0, 0.0, 0.0, 0.0, 0.0, 0.0, 0.0, 0.0, 0.0, 0.0, 0.0, 0.0, 0.0, 0.0, 0.0]}, {\"marker\": {\"color\": \"rgb(0, 0, 250)\"}, \"name\": \"dif\", \"type\": \"scatter\", \"uid\": \"4a777c06-df4b-4a54-9a6f-ddcb5fa64932\", \"x\": [0, 1, 2, 3, 4, 5, 6, 7, 8, 9, 10, 11, 12, 13, 14, 15, 16, 17, 18, 19, 20, 21, 22, 23, 24, 25, 26, 27, 28, 29, 30, 31, 32, 33, 34, 35], \"y\": [0.9824561403508771, 0.9473684210526315, 0.9298245614035088, 0.9298245614035088, 0.9298245614035088, 0.9298245614035088, 0.9122807017543859, 0.8771929824561403, 0.8771929824561403, 0.8771929824561403, 0.8771929824561403, 0.8771929824561403, 0.8596491228070176, 0.8596491228070176, 0.8421052631578947, 0.8245614035087719, 0.8070175438596491, 0.7368421052631579, 0.6140350877192983, 0.5789473684210527, 0.543859649122807, 0.5087719298245614, 0.49122807017543857, 0.49122807017543857, 0.47368421052631576, 0.45614035087719296, 0.45614035087719296, 0.45614035087719296, 0.43859649122807015, 0.38596491228070173, 0.3508771929824561, 0.2982456140350877, 0.2807017543859649, 0.24561403508771928, 0.22807017543859648, 0.0]}],\n",
       "                        {\"title\": {\"text\": \"Dif class\"}, \"yaxis\": {\"rangemode\": \"tozero\", \"title\": {\"text\": \"\"}}, \"yaxis2\": {\"overlaying\": \"y\", \"rangemode\": \"tozero\", \"side\": \"right\", \"tickfont\": {\"color\": \"rgb(148, 103, 189)\"}, \"title\": {\"font\": {\"color\": \"rgb(148, 103, 189)\"}, \"text\": \"\"}}},\n",
       "                        {\"showLink\": false, \"linkText\": \"Export to plot.ly\", \"plotlyServerURL\": \"https://plot.ly\", \"responsive\": true}\n",
       "                    ).then(function(){\n",
       "                            \n",
       "var gd = document.getElementById('449eea1b-9309-45a3-9751-0754656695b8');\n",
       "var x = new MutationObserver(function (mutations, observer) {{\n",
       "        var display = window.getComputedStyle(gd).display;\n",
       "        if (!display || display === 'none') {{\n",
       "            console.log([gd, 'removed!']);\n",
       "            Plotly.purge(gd);\n",
       "            observer.disconnect();\n",
       "        }}\n",
       "}});\n",
       "\n",
       "// Listen for the removal of the full notebook cells\n",
       "var notebookContainer = gd.closest('#notebook-container');\n",
       "if (notebookContainer) {{\n",
       "    x.observe(notebookContainer, {childList: true});\n",
       "}}\n",
       "\n",
       "// Listen for the clearing of the current output cell\n",
       "var outputEl = gd.closest('.output');\n",
       "if (outputEl) {{\n",
       "    x.observe(outputEl, {childList: true});\n",
       "}}\n",
       "\n",
       "                        })\n",
       "                };\n",
       "                });\n",
       "            </script>\n",
       "        </div>"
      ]
     },
     "metadata": {},
     "output_type": "display_data"
    },
    {
     "data": {
      "text/html": [
       "        <script type=\"text/javascript\">\n",
       "        window.PlotlyConfig = {MathJaxConfig: 'local'};\n",
       "        if (window.MathJax) {MathJax.Hub.Config({SVG: {font: \"STIX-Web\"}});}\n",
       "        if (typeof require !== 'undefined') {\n",
       "        require.undef(\"plotly\");\n",
       "        requirejs.config({\n",
       "            paths: {\n",
       "                'plotly': ['https://cdn.plot.ly/plotly-latest.min']\n",
       "            }\n",
       "        });\n",
       "        require(['plotly'], function(Plotly) {\n",
       "            window._Plotly = Plotly;\n",
       "        });\n",
       "        }\n",
       "        </script>\n",
       "        "
      ]
     },
     "metadata": {},
     "output_type": "display_data"
    },
    {
     "data": {
      "application/vnd.plotly.v1+json": {
       "config": {
        "linkText": "Export to plot.ly",
        "plotlyServerURL": "https://plot.ly",
        "responsive": true,
        "showLink": false
       },
       "data": [
        {
         "marker": {
          "color": "rgb(0, 0, 250)"
         },
         "name": "dif",
         "type": "bar",
         "uid": "8df3b880-e8af-4821-acde-1afb2f877e56",
         "x": [
          -300,
          -200,
          -100,
          0,
          100,
          200,
          300,
          400,
          500,
          600,
          800
         ],
         "y": [
          3,
          4,
          9,
          23,
          4,
          3,
          6,
          1,
          2,
          1,
          1
         ]
        }
       ],
       "layout": {
        "title": {
         "text": "Dif class"
        },
        "yaxis": {
         "rangemode": "tozero",
         "title": {
          "text": ""
         }
        },
        "yaxis2": {
         "overlaying": "y",
         "rangemode": "tozero",
         "side": "right",
         "tickfont": {
          "color": "rgb(148, 103, 189)"
         },
         "title": {
          "font": {
           "color": "rgb(148, 103, 189)"
          },
          "text": ""
         }
        }
       }
      },
      "text/html": [
       "<div>\n",
       "        \n",
       "        \n",
       "            <div id=\"4c4007fe-c05f-40de-9736-ae2117aa8617\" class=\"plotly-graph-div\" style=\"height:525px; width:100%;\"></div>\n",
       "            <script type=\"text/javascript\">\n",
       "                require([\"plotly\"], function(Plotly) {\n",
       "                    window.PLOTLYENV=window.PLOTLYENV || {};\n",
       "                    window.PLOTLYENV.BASE_URL='https://plot.ly';\n",
       "                    \n",
       "                if (document.getElementById(\"4c4007fe-c05f-40de-9736-ae2117aa8617\")) {\n",
       "                    Plotly.newPlot(\n",
       "                        '4c4007fe-c05f-40de-9736-ae2117aa8617',\n",
       "                        [{\"marker\": {\"color\": \"rgb(0, 0, 250)\"}, \"name\": \"dif\", \"type\": \"bar\", \"uid\": \"23bd9cd6-bdca-4ba9-b8df-941525c9878a\", \"x\": [-300.0, -200.0, -100.0, -0.0, 100.0, 200.0, 300.0, 400.0, 500.0, 600.0, 800.0], \"y\": [3, 4, 9, 23, 4, 3, 6, 1, 2, 1, 1]}],\n",
       "                        {\"title\": {\"text\": \"Dif class\"}, \"yaxis\": {\"rangemode\": \"tozero\", \"title\": {\"text\": \"\"}}, \"yaxis2\": {\"overlaying\": \"y\", \"rangemode\": \"tozero\", \"side\": \"right\", \"tickfont\": {\"color\": \"rgb(148, 103, 189)\"}, \"title\": {\"font\": {\"color\": \"rgb(148, 103, 189)\"}, \"text\": \"\"}}},\n",
       "                        {\"showLink\": false, \"linkText\": \"Export to plot.ly\", \"plotlyServerURL\": \"https://plot.ly\", \"responsive\": true}\n",
       "                    ).then(function(){\n",
       "                            \n",
       "var gd = document.getElementById('4c4007fe-c05f-40de-9736-ae2117aa8617');\n",
       "var x = new MutationObserver(function (mutations, observer) {{\n",
       "        var display = window.getComputedStyle(gd).display;\n",
       "        if (!display || display === 'none') {{\n",
       "            console.log([gd, 'removed!']);\n",
       "            Plotly.purge(gd);\n",
       "            observer.disconnect();\n",
       "        }}\n",
       "}});\n",
       "\n",
       "// Listen for the removal of the full notebook cells\n",
       "var notebookContainer = gd.closest('#notebook-container');\n",
       "if (notebookContainer) {{\n",
       "    x.observe(notebookContainer, {childList: true});\n",
       "}}\n",
       "\n",
       "// Listen for the clearing of the current output cell\n",
       "var outputEl = gd.closest('.output');\n",
       "if (outputEl) {{\n",
       "    x.observe(outputEl, {childList: true});\n",
       "}}\n",
       "\n",
       "                        })\n",
       "                };\n",
       "                });\n",
       "            </script>\n",
       "        </div>"
      ]
     },
     "metadata": {},
     "output_type": "display_data"
    },
    {
     "name": "stdout",
     "output_type": "stream",
     "text": [
      "Средний бонус: 49.68\n",
      "Медианный бонус -1.0\n",
      "Мода бонуса 0.0\n",
      "Корреляция факта с прогнозом по местам 0.72\n"
     ]
    }
   ],
   "source": [
    "rf.show_tourn(tourn_id=5602, is_api=False, is_write=True)"
   ]
  },
  {
   "cell_type": "code",
   "execution_count": 3,
   "metadata": {},
   "outputs": [
    {
     "name": "stderr",
     "output_type": "stream",
     "text": [
      "/Users/roman/anaconda3/lib/python3.7/site-packages/pandas/core/generic.py:3812: PerformanceWarning: dropping on a non-lexsorted multi-index without a level parameter may impact performance.\n",
      "  new_axis = axis.drop(labels, errors=errors)\n"
     ]
    },
    {
     "name": "stdout",
     "output_type": "stream",
     "text": [
      "Команда Гештальт не заверше (id= 70264 ) \n",
      "на турнире  Межфакультетский кубок МГУ (id= 5602 )\n",
      "Тип турнира:  Обычный\n",
      "Участвовало команд: 57\n",
      "Результат команды:  14 / 36\n",
      "Изменения рейтинга команды после турнира: 195\n",
      "Стиль команды на турнире: Техничная\n",
      "Статистика по типам вопросов:\n",
      "1. Очень простые : 1 / 1 оценка:  3\n",
      "2. Простые : 4 / 6 оценка:  1\n",
      "3. Сложные : 9 / 11 оценка:  2\n",
      "4. Очень сложные : 0 / 18 оценка:  1\n",
      "Номера самых простых невзятых вопросв: ['qv_27' 'qv_26' 'qv_9']\n",
      "Номера самых сложных взятых вопросов: ['qv_31' 'qv_34' 'qv_10']\n"
     ]
    }
   ],
   "source": [
    "a=rf.show_team_in_tourn(tourn_id=5602, team_id=70264, is_api=False, is_write=True)"
   ]
  },
  {
   "cell_type": "code",
   "execution_count": 4,
   "metadata": {},
   "outputs": [
    {
     "name": "stderr",
     "output_type": "stream",
     "text": [
      "/Users/roman/anaconda3/lib/python3.7/site-packages/pandas/core/generic.py:3812: PerformanceWarning: dropping on a non-lexsorted multi-index without a level parameter may impact performance.\n",
      "  new_axis = axis.drop(labels, errors=errors)\n"
     ]
    },
    {
     "name": "stdout",
     "output_type": "stream",
     "text": [
      "Команда Квасной либерализм (id= 54256 ) \n",
      "на турнире  Межфакультетский кубок МГУ (id= 5602 )\n",
      "Тип турнира:  Обычный\n",
      "Участвовало команд: 57\n",
      "Результат команды:  14 / 36\n",
      "Изменения рейтинга команды после турнира: -79\n",
      "Стиль команды на турнире: Техничная\n",
      "Статистика по типам вопросов:\n",
      "1. Очень простые : 1 / 1 оценка:  3\n",
      "2. Простые : 5 / 6 оценка:  2\n",
      "3. Сложные : 7 / 11 оценка:  2\n",
      "4. Очень сложные : 1 / 18 оценка:  1\n",
      "Номера самых простых невзятых вопросв: ['qv_26' 'qv_14' 'qv_10']\n",
      "Номера самых сложных взятых вопросов: ['qv_18' 'qv_3' 'qv_5']\n"
     ]
    }
   ],
   "source": [
    "a=rf.show_team_in_tourn(tourn_id=5602, team_id=54256, is_api=False, is_write=True)"
   ]
  },
  {
   "cell_type": "code",
   "execution_count": 5,
   "metadata": {},
   "outputs": [
    {
     "data": {
      "text/html": [
       "<div>\n",
       "<style scoped>\n",
       "    .dataframe tbody tr th:only-of-type {\n",
       "        vertical-align: middle;\n",
       "    }\n",
       "\n",
       "    .dataframe tbody tr th {\n",
       "        vertical-align: top;\n",
       "    }\n",
       "\n",
       "    .dataframe thead tr th {\n",
       "        text-align: left;\n",
       "    }\n",
       "</style>\n",
       "<table border=\"1\" class=\"dataframe\">\n",
       "  <thead>\n",
       "    <tr>\n",
       "      <th></th>\n",
       "      <th>class_dif</th>\n",
       "      <th>share</th>\n",
       "      <th>score</th>\n",
       "      <th>total</th>\n",
       "      <th>share_tourn</th>\n",
       "      <th>share_top</th>\n",
       "      <th>team_id</th>\n",
       "      <th>mark</th>\n",
       "      <th>style</th>\n",
       "    </tr>\n",
       "    <tr>\n",
       "      <th></th>\n",
       "      <th></th>\n",
       "      <th></th>\n",
       "      <th></th>\n",
       "      <th></th>\n",
       "      <th></th>\n",
       "      <th></th>\n",
       "      <th></th>\n",
       "      <th></th>\n",
       "      <th></th>\n",
       "    </tr>\n",
       "  </thead>\n",
       "  <tbody>\n",
       "    <tr>\n",
       "      <th>0</th>\n",
       "      <td>1. Очень простые</td>\n",
       "      <td>1.000000</td>\n",
       "      <td>1</td>\n",
       "      <td>1</td>\n",
       "      <td>1.000000</td>\n",
       "      <td>1.000000</td>\n",
       "      <td>54256</td>\n",
       "      <td>3</td>\n",
       "      <td>Техничная</td>\n",
       "    </tr>\n",
       "    <tr>\n",
       "      <th>1</th>\n",
       "      <td>2. Простые</td>\n",
       "      <td>0.833333</td>\n",
       "      <td>5</td>\n",
       "      <td>6</td>\n",
       "      <td>0.701754</td>\n",
       "      <td>0.861111</td>\n",
       "      <td>54256</td>\n",
       "      <td>2</td>\n",
       "      <td>Техничная</td>\n",
       "    </tr>\n",
       "    <tr>\n",
       "      <th>2</th>\n",
       "      <td>3. Сложные</td>\n",
       "      <td>0.636364</td>\n",
       "      <td>7</td>\n",
       "      <td>11</td>\n",
       "      <td>0.499203</td>\n",
       "      <td>0.863636</td>\n",
       "      <td>54256</td>\n",
       "      <td>2</td>\n",
       "      <td>Техничная</td>\n",
       "    </tr>\n",
       "    <tr>\n",
       "      <th>3</th>\n",
       "      <td>4. Очень сложные</td>\n",
       "      <td>0.055556</td>\n",
       "      <td>1</td>\n",
       "      <td>18</td>\n",
       "      <td>0.117934</td>\n",
       "      <td>0.444444</td>\n",
       "      <td>54256</td>\n",
       "      <td>1</td>\n",
       "      <td>Техничная</td>\n",
       "    </tr>\n",
       "  </tbody>\n",
       "</table>\n",
       "</div>"
      ],
      "text/plain": [
       "          class_dif     share score total share_tourn share_top team_id mark  \\\n",
       "                                                                               \n",
       "0  1. Очень простые  1.000000     1     1    1.000000  1.000000   54256    3   \n",
       "1        2. Простые  0.833333     5     6    0.701754  0.861111   54256    2   \n",
       "2        3. Сложные  0.636364     7    11    0.499203  0.863636   54256    2   \n",
       "3  4. Очень сложные  0.055556     1    18    0.117934  0.444444   54256    1   \n",
       "\n",
       "       style  \n",
       "              \n",
       "0  Техничная  \n",
       "1  Техничная  \n",
       "2  Техничная  \n",
       "3  Техничная  "
      ]
     },
     "execution_count": 5,
     "metadata": {},
     "output_type": "execute_result"
    }
   ],
   "source": [
    "a"
   ]
  },
  {
   "cell_type": "code",
   "execution_count": null,
   "metadata": {},
   "outputs": [],
   "source": []
  },
  {
   "cell_type": "code",
   "execution_count": 8,
   "metadata": {},
   "outputs": [
    {
     "name": "stdout",
     "output_type": "stream",
     "text": [
      "2019-05-05 22:28:33.826114\n",
      "0:00:16.944991\n"
     ]
    }
   ],
   "source": [
    "fin=datetime.datetime.now()\n",
    "print(fin)\n",
    "print(fin-st)"
   ]
  },
  {
   "cell_type": "code",
   "execution_count": null,
   "metadata": {},
   "outputs": [],
   "source": []
  },
  {
   "cell_type": "code",
   "execution_count": null,
   "metadata": {},
   "outputs": [],
   "source": []
  }
 ],
 "metadata": {
  "kernelspec": {
   "display_name": "Python 3",
   "language": "python",
   "name": "python3"
  },
  "language_info": {
   "codemirror_mode": {
    "name": "ipython",
    "version": 3
   },
   "file_extension": ".py",
   "mimetype": "text/x-python",
   "name": "python",
   "nbconvert_exporter": "python",
   "pygments_lexer": "ipython3",
   "version": "3.7.3"
  }
 },
 "nbformat": 4,
 "nbformat_minor": 2
}
