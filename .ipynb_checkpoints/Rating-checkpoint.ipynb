{
 "cells": [
  {
   "cell_type": "code",
   "execution_count": 1,
   "metadata": {},
   "outputs": [],
   "source": [
    "# coding: utf-8\n",
    "import numpy as np\n",
    "import pandas as pd\n",
    "\n",
    "#настройки, с которыми лучше\n",
    "pd.set_option('display.max_rows', 45000)\n",
    "pd.set_option('display.max_columns', 50000)\n",
    "pd.set_option('display.max_colwidth', 5000)\n",
    "\n",
    "\n",
    "import sys\n",
    "sys.path.append('/Users/roman/python/kaggle/chgk_sum')\n",
    "\n",
    "import rating_fun as rf"
   ]
  },
  {
   "cell_type": "code",
   "execution_count": 2,
   "metadata": {},
   "outputs": [
    {
     "name": "stdout",
     "output_type": "stream",
     "text": [
      "CPU times: user 58.1 ms, sys: 13.7 ms, total: 71.8 ms\n",
      "Wall time: 4.67 s\n"
     ]
    },
    {
     "data": {
      "text/html": [
       "<div>\n",
       "<style scoped>\n",
       "    .dataframe tbody tr th:only-of-type {\n",
       "        vertical-align: middle;\n",
       "    }\n",
       "\n",
       "    .dataframe tbody tr th {\n",
       "        vertical-align: top;\n",
       "    }\n",
       "\n",
       "    .dataframe thead th {\n",
       "        text-align: right;\n",
       "    }\n",
       "</style>\n",
       "<table border=\"1\" class=\"dataframe\">\n",
       "  <thead>\n",
       "    <tr style=\"text-align: right;\">\n",
       "      <th></th>\n",
       "      <th>base_name</th>\n",
       "      <th>bonus_a</th>\n",
       "      <th>bonus_b</th>\n",
       "      <th>current_name</th>\n",
       "      <th>diff_bonus</th>\n",
       "      <th>idteam</th>\n",
       "      <th>included_in_rating</th>\n",
       "      <th>mask</th>\n",
       "      <th>position</th>\n",
       "      <th>predicted_position</th>\n",
       "      <th>questions_total</th>\n",
       "      <th>tech_rating</th>\n",
       "    </tr>\n",
       "  </thead>\n",
       "  <tbody>\n",
       "    <tr>\n",
       "      <th>0</th>\n",
       "      <td>Афина</td>\n",
       "      <td>2298</td>\n",
       "      <td>1650</td>\n",
       "      <td>Афина</td>\n",
       "      <td>-1</td>\n",
       "      <td>2</td>\n",
       "      <td>1</td>\n",
       "      <td>1111111111111111101111111111X0101101</td>\n",
       "      <td>5.0</td>\n",
       "      <td>4.0</td>\n",
       "      <td>31</td>\n",
       "      <td>7423</td>\n",
       "    </tr>\n",
       "    <tr>\n",
       "      <th>1</th>\n",
       "      <td>Пилигрим</td>\n",
       "      <td>2276</td>\n",
       "      <td>1180</td>\n",
       "      <td>Пилигрим</td>\n",
       "      <td>175</td>\n",
       "      <td>39</td>\n",
       "      <td>1</td>\n",
       "      <td>1110111100111111001110111110X1100001</td>\n",
       "      <td>123.5</td>\n",
       "      <td>378.0</td>\n",
       "      <td>24</td>\n",
       "      <td>3396</td>\n",
       "    </tr>\n",
       "    <tr>\n",
       "      <th>2</th>\n",
       "      <td>В-Ч-Ж</td>\n",
       "      <td>2171</td>\n",
       "      <td>1013</td>\n",
       "      <td>В-Ч-Ж</td>\n",
       "      <td>119</td>\n",
       "      <td>63</td>\n",
       "      <td>1</td>\n",
       "      <td>1110011010111111101110111100X1001000</td>\n",
       "      <td>222.5</td>\n",
       "      <td>443.0</td>\n",
       "      <td>22</td>\n",
       "      <td>3162</td>\n",
       "    </tr>\n",
       "  </tbody>\n",
       "</table>\n",
       "</div>"
      ],
      "text/plain": [
       "  base_name  bonus_a  bonus_b current_name  diff_bonus  idteam  \\\n",
       "0     Афина     2298     1650        Афина          -1       2   \n",
       "1  Пилигрим     2276     1180     Пилигрим         175      39   \n",
       "2     В-Ч-Ж     2171     1013        В-Ч-Ж         119      63   \n",
       "\n",
       "   included_in_rating                                  mask  position  \\\n",
       "0                   1  1111111111111111101111111111X0101101       5.0   \n",
       "1                   1  1110111100111111001110111110X1100001     123.5   \n",
       "2                   1  1110011010111111101110111100X1001000     222.5   \n",
       "\n",
       "   predicted_position  questions_total  tech_rating  \n",
       "0                 4.0               31         7423  \n",
       "1               378.0               24         3396  \n",
       "2               443.0               22         3162  "
      ]
     },
     "execution_count": 2,
     "metadata": {},
     "output_type": "execute_result"
    }
   ],
   "source": [
    "%%time\n",
    "rf.get_tourn(4971, is_api=True, is_write=False)[0:3]"
   ]
  },
  {
   "cell_type": "code",
   "execution_count": 5,
   "metadata": {},
   "outputs": [
    {
     "name": "stdout",
     "output_type": "stream",
     "text": [
      "CPU times: user 14.2 ms, sys: 2.26 ms, total: 16.5 ms\n",
      "Wall time: 19.1 ms\n"
     ]
    },
    {
     "data": {
      "text/html": [
       "<div>\n",
       "<style scoped>\n",
       "    .dataframe tbody tr th:only-of-type {\n",
       "        vertical-align: middle;\n",
       "    }\n",
       "\n",
       "    .dataframe tbody tr th {\n",
       "        vertical-align: top;\n",
       "    }\n",
       "\n",
       "    .dataframe thead th {\n",
       "        text-align: right;\n",
       "    }\n",
       "</style>\n",
       "<table border=\"1\" class=\"dataframe\">\n",
       "  <thead>\n",
       "    <tr style=\"text-align: right;\">\n",
       "      <th></th>\n",
       "      <th>mask</th>\n",
       "      <th>tour</th>\n",
       "    </tr>\n",
       "  </thead>\n",
       "  <tbody>\n",
       "    <tr>\n",
       "      <th>0</th>\n",
       "      <td>[1, 1, 1, 1, 1, 1, 1, 1, 0, 1, 1, 1]</td>\n",
       "      <td>1</td>\n",
       "    </tr>\n",
       "    <tr>\n",
       "      <th>1</th>\n",
       "      <td>[1, 1, 1, 1, 1, 1, 1, 1, 1, 1, 1, 1]</td>\n",
       "      <td>2</td>\n",
       "    </tr>\n",
       "    <tr>\n",
       "      <th>2</th>\n",
       "      <td>[1, 1, 0, 1, X, 1, 1, 0, 1, 1, 0, 1]</td>\n",
       "      <td>3</td>\n",
       "    </tr>\n",
       "  </tbody>\n",
       "</table>\n",
       "</div>"
      ],
      "text/plain": [
       "                                   mask  tour\n",
       "0  [1, 1, 1, 1, 1, 1, 1, 1, 0, 1, 1, 1]     1\n",
       "1  [1, 1, 1, 1, 1, 1, 1, 1, 1, 1, 1, 1]     2\n",
       "2  [1, 1, 0, 1, X, 1, 1, 0, 1, 1, 0, 1]     3"
      ]
     },
     "execution_count": 5,
     "metadata": {},
     "output_type": "execute_result"
    }
   ],
   "source": [
    "%%time\n",
    "rf.get_team(4971, 6198, is_api=False, is_write=False)[0:3]"
   ]
  },
  {
   "cell_type": "code",
   "execution_count": 2,
   "metadata": {},
   "outputs": [],
   "source": [
    "df=rf.get_team_from_tourn(4971, 6198, is_api=True, is_write=False)[0:3]"
   ]
  },
  {
   "cell_type": "code",
   "execution_count": null,
   "metadata": {},
   "outputs": [],
   "source": []
  }
 ],
 "metadata": {
  "kernelspec": {
   "display_name": "Python 3",
   "language": "python",
   "name": "python3"
  },
  "language_info": {
   "codemirror_mode": {
    "name": "ipython",
    "version": 3
   },
   "file_extension": ".py",
   "mimetype": "text/x-python",
   "name": "python",
   "nbconvert_exporter": "python",
   "pygments_lexer": "ipython3",
   "version": "3.7.3"
  }
 },
 "nbformat": 4,
 "nbformat_minor": 2
}
